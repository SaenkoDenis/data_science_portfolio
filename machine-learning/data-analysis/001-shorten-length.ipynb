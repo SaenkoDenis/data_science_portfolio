{
 "cells": [
  {
   "cell_type": "markdown",
   "id": "8cb98989",
   "metadata": {
    "cellId": "e4hwz7ne87inays1olnd",
    "execution_id": "1bd4cfd4-872f-4085-b2f5-1bc9fce46d64"
   },
   "source": [
    "# Как сократить длину строки в ячейке датафрейма\n",
    "\n",
    "Это записная книжка для статьи \"Как сократить длину строки в ячейке датафрейма\".\n",
    "\n",
    "Пожалуйста, ознакомьтесь со статьей для получения инструкций<br>\n",
    "**License**: [BSD 2-Clause](https://opensource.org/licenses/BSD-2-Clause)"
   ]
  },
  {
   "cell_type": "code",
   "execution_count": 1,
   "id": "0313083c",
   "metadata": {
    "cellId": "cr9qlpxyotohfnoigkm1vi"
   },
   "outputs": [],
   "source": [
    "import pandas as pd"
   ]
  },
  {
   "cell_type": "code",
   "execution_count": 2,
   "id": "9fb274fc",
   "metadata": {
    "cellId": "4558v2xpd93lrhy8oxzqgj"
   },
   "outputs": [],
   "source": [
    "courses = ['Java-разработчик c нуля', 'Веб-дизайн Базовый',\n",
    "\t\t   'Excel Базовый', \n",
    "           'Руководитель digital-проектов', \n",
    "           'PHP-разработчик с 0 до PRO. Часть 1']\n",
    "df = pd.Series(courses)"
   ]
  },
  {
   "cell_type": "code",
   "execution_count": 4,
   "id": "6558e11f",
   "metadata": {
    "cellId": "beu2m422qbnhwjw05bez8"
   },
   "outputs": [
    {
     "data": {
      "text/plain": [
       "0                Java-разработчик c нуля\n",
       "1                     Веб-дизайн Базовый\n",
       "2                          Excel Базовый\n",
       "3          Руководитель digital-проектов\n",
       "4    PHP-разработчик с 0 до PRO. Часть 1\n",
       "dtype: object"
      ]
     },
     "execution_count": 4,
     "metadata": {},
     "output_type": "execute_result"
    }
   ],
   "source": [
    "df"
   ]
  },
  {
   "cell_type": "code",
   "execution_count": 3,
   "id": "4ea6fc85",
   "metadata": {
    "cellId": "h3jwkbw8ogq5lunxdcaviy"
   },
   "outputs": [
    {
     "data": {
      "text/plain": [
       "0    Java-разработчик c...\n",
       "1       Веб-дизайн Базовый\n",
       "2            Excel Базовый\n",
       "3    Руководитель digit...\n",
       "4    PHP-разработчик с ...\n",
       "dtype: object"
      ]
     },
     "execution_count": 3,
     "metadata": {},
     "output_type": "execute_result"
    }
   ],
   "source": [
    "df.apply(lambda x: x[:18] + '...' if len(x) > 18 else x)"
   ]
  },
  {
   "cell_type": "markdown",
   "id": "896d0f21",
   "metadata": {
    "cellId": "84cgu95fl9di0sfuf2w44",
    "execution_id": "7a67db9a-4e93-4dac-8f5b-53dfe882fdb8"
   },
   "source": [
    "**Вот и все**<br>\n",
    "Спасибо за чтение<br>\n",
    "Это записная книжка для статьи \"Как сократить длину строки в ячейке датафрейма\".<br>\n",
    "Пожалуйста, ознакомьтесь со статьей для получения инструкций"
   ]
  }
 ],
 "metadata": {
  "language_info": {
   "codemirror_mode": {
    "name": "ipython",
    "version": 3
   },
   "file_extension": ".py",
   "mimetype": "text/x-python",
   "name": "python",
   "nbconvert_exporter": "python",
   "pygments_lexer": "ipython3",
   "version": "3.7.7"
  },
  "notebookId": "4bdc1123-34b8-4886-a9fc-b7f2028b91aa",
  "notebookPath": "machine-learning/Untitled.ipynb"
 },
 "nbformat": 4,
 "nbformat_minor": 5
}
